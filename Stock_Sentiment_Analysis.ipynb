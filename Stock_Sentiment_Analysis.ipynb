{
 "cells": [
  {
   "cell_type": "code",
   "execution_count": 1,
   "id": "e96ad2b5-02f8-4b7e-80a7-8e3e099f33eb",
   "metadata": {},
   "outputs": [],
   "source": [
    "#importing required libraries\n",
    "import pandas as pd\n",
    "import numpy as np\n",
    "import matplotlib.pyplot as plt\n",
    "import seaborn as sns\n",
    "from sklearn.model_selection import train_test_split\n",
    "\n",
    "import nltk\n",
    "from nltk.corpus import stopwords\n",
    "from nltk.stem import PorterStemmer"
   ]
  },
  {
   "cell_type": "code",
   "execution_count": 2,
   "id": "18a9b52c-11f4-4cb7-91b1-a996c45d7cc6",
   "metadata": {},
   "outputs": [],
   "source": [
    "path = r'Data.csv'\n",
    "df = pd.read_csv(path, encoding = 'ISO-8859-1')"
   ]
  },
  {
   "cell_type": "code",
   "execution_count": 3,
   "id": "7c3daf1b-cbc2-41e0-bcd8-9556e4e675a9",
   "metadata": {},
   "outputs": [
    {
     "data": {
      "text/plain": [
       "(4101, 27)"
      ]
     },
     "execution_count": 3,
     "metadata": {},
     "output_type": "execute_result"
    }
   ],
   "source": [
    "df.shape"
   ]
  },
  {
   "cell_type": "code",
   "execution_count": 4,
   "id": "668a996e-7894-40c9-8aae-090d111b2916",
   "metadata": {},
   "outputs": [
    {
     "data": {
      "text/plain": [
       "27"
      ]
     },
     "execution_count": 4,
     "metadata": {},
     "output_type": "execute_result"
    }
   ],
   "source": [
    "len(df.columns)"
   ]
  },
  {
   "cell_type": "code",
   "execution_count": 5,
   "id": "da9ee25a-6f92-4ffe-8222-dee4ed61d8c9",
   "metadata": {},
   "outputs": [
    {
     "data": {
      "text/html": [
       "<div>\n",
       "<style scoped>\n",
       "    .dataframe tbody tr th:only-of-type {\n",
       "        vertical-align: middle;\n",
       "    }\n",
       "\n",
       "    .dataframe tbody tr th {\n",
       "        vertical-align: top;\n",
       "    }\n",
       "\n",
       "    .dataframe thead th {\n",
       "        text-align: right;\n",
       "    }\n",
       "</style>\n",
       "<table border=\"1\" class=\"dataframe\">\n",
       "  <thead>\n",
       "    <tr style=\"text-align: right;\">\n",
       "      <th></th>\n",
       "      <th>Date</th>\n",
       "      <th>Label</th>\n",
       "      <th>Top1</th>\n",
       "      <th>Top2</th>\n",
       "      <th>Top3</th>\n",
       "      <th>Top4</th>\n",
       "      <th>Top5</th>\n",
       "      <th>Top6</th>\n",
       "      <th>Top7</th>\n",
       "      <th>Top8</th>\n",
       "      <th>...</th>\n",
       "      <th>Top16</th>\n",
       "      <th>Top17</th>\n",
       "      <th>Top18</th>\n",
       "      <th>Top19</th>\n",
       "      <th>Top20</th>\n",
       "      <th>Top21</th>\n",
       "      <th>Top22</th>\n",
       "      <th>Top23</th>\n",
       "      <th>Top24</th>\n",
       "      <th>Top25</th>\n",
       "    </tr>\n",
       "  </thead>\n",
       "  <tbody>\n",
       "    <tr>\n",
       "      <th>0</th>\n",
       "      <td>2000-01-03</td>\n",
       "      <td>0</td>\n",
       "      <td>A 'hindrance to operations': extracts from the...</td>\n",
       "      <td>Scorecard</td>\n",
       "      <td>Hughes' instant hit buoys Blues</td>\n",
       "      <td>Jack gets his skates on at ice-cold Alex</td>\n",
       "      <td>Chaos as Maracana builds up for United</td>\n",
       "      <td>Depleted Leicester prevail as Elliott spoils E...</td>\n",
       "      <td>Hungry Spurs sense rich pickings</td>\n",
       "      <td>Gunners so wide of an easy target</td>\n",
       "      <td>...</td>\n",
       "      <td>Flintoff injury piles on woe for England</td>\n",
       "      <td>Hunters threaten Jospin with new battle of the...</td>\n",
       "      <td>Kohl's successor drawn into scandal</td>\n",
       "      <td>The difference between men and women</td>\n",
       "      <td>Sara Denver, nurse turned solicitor</td>\n",
       "      <td>Diana's landmine crusade put Tories in a panic</td>\n",
       "      <td>Yeltsin's resignation caught opposition flat-f...</td>\n",
       "      <td>Russian roulette</td>\n",
       "      <td>Sold out</td>\n",
       "      <td>Recovering a title</td>\n",
       "    </tr>\n",
       "    <tr>\n",
       "      <th>1</th>\n",
       "      <td>2000-01-04</td>\n",
       "      <td>0</td>\n",
       "      <td>Scorecard</td>\n",
       "      <td>The best lake scene</td>\n",
       "      <td>Leader: German sleaze inquiry</td>\n",
       "      <td>Cheerio, boyo</td>\n",
       "      <td>The main recommendations</td>\n",
       "      <td>Has Cubie killed fees?</td>\n",
       "      <td>Has Cubie killed fees?</td>\n",
       "      <td>Has Cubie killed fees?</td>\n",
       "      <td>...</td>\n",
       "      <td>On the critical list</td>\n",
       "      <td>The timing of their lives</td>\n",
       "      <td>Dear doctor</td>\n",
       "      <td>Irish court halts IRA man's extradition to Nor...</td>\n",
       "      <td>Burundi peace initiative fades after rebels re...</td>\n",
       "      <td>PE points the way forward to the ECB</td>\n",
       "      <td>Campaigners keep up pressure on Nazi war crime...</td>\n",
       "      <td>Jane Ratcliffe</td>\n",
       "      <td>Yet more things you wouldn't know without the ...</td>\n",
       "      <td>Millennium bug fails to bite</td>\n",
       "    </tr>\n",
       "  </tbody>\n",
       "</table>\n",
       "<p>2 rows × 27 columns</p>\n",
       "</div>"
      ],
      "text/plain": [
       "         Date  Label                                               Top1  \\\n",
       "0  2000-01-03      0  A 'hindrance to operations': extracts from the...   \n",
       "1  2000-01-04      0                                          Scorecard   \n",
       "\n",
       "                  Top2                             Top3  \\\n",
       "0            Scorecard  Hughes' instant hit buoys Blues   \n",
       "1  The best lake scene    Leader: German sleaze inquiry   \n",
       "\n",
       "                                       Top4  \\\n",
       "0  Jack gets his skates on at ice-cold Alex   \n",
       "1                             Cheerio, boyo   \n",
       "\n",
       "                                     Top5  \\\n",
       "0  Chaos as Maracana builds up for United   \n",
       "1                The main recommendations   \n",
       "\n",
       "                                                Top6  \\\n",
       "0  Depleted Leicester prevail as Elliott spoils E...   \n",
       "1                             Has Cubie killed fees?   \n",
       "\n",
       "                               Top7                               Top8  ...  \\\n",
       "0  Hungry Spurs sense rich pickings  Gunners so wide of an easy target  ...   \n",
       "1            Has Cubie killed fees?             Has Cubie killed fees?  ...   \n",
       "\n",
       "                                      Top16  \\\n",
       "0  Flintoff injury piles on woe for England   \n",
       "1                      On the critical list   \n",
       "\n",
       "                                               Top17  \\\n",
       "0  Hunters threaten Jospin with new battle of the...   \n",
       "1                          The timing of their lives   \n",
       "\n",
       "                                 Top18  \\\n",
       "0  Kohl's successor drawn into scandal   \n",
       "1                          Dear doctor   \n",
       "\n",
       "                                               Top19  \\\n",
       "0               The difference between men and women   \n",
       "1  Irish court halts IRA man's extradition to Nor...   \n",
       "\n",
       "                                               Top20  \\\n",
       "0                Sara Denver, nurse turned solicitor   \n",
       "1  Burundi peace initiative fades after rebels re...   \n",
       "\n",
       "                                            Top21  \\\n",
       "0  Diana's landmine crusade put Tories in a panic   \n",
       "1            PE points the way forward to the ECB   \n",
       "\n",
       "                                               Top22             Top23  \\\n",
       "0  Yeltsin's resignation caught opposition flat-f...  Russian roulette   \n",
       "1  Campaigners keep up pressure on Nazi war crime...    Jane Ratcliffe   \n",
       "\n",
       "                                               Top24  \\\n",
       "0                                           Sold out   \n",
       "1  Yet more things you wouldn't know without the ...   \n",
       "\n",
       "                          Top25  \n",
       "0            Recovering a title  \n",
       "1  Millennium bug fails to bite  \n",
       "\n",
       "[2 rows x 27 columns]"
      ]
     },
     "execution_count": 5,
     "metadata": {},
     "output_type": "execute_result"
    }
   ],
   "source": [
    "df.head(2)"
   ]
  },
  {
   "cell_type": "code",
   "execution_count": 6,
   "id": "6b9e88ea-fcf5-4396-b7d7-94cc5357b1ee",
   "metadata": {},
   "outputs": [
    {
     "data": {
      "text/plain": [
       "0    1935\n",
       "1    2166\n",
       "Name: Label, dtype: int64"
      ]
     },
     "execution_count": 6,
     "metadata": {},
     "output_type": "execute_result"
    }
   ],
   "source": [
    "df.Label.value_counts(dropna = False, sort = False)"
   ]
  },
  {
   "cell_type": "code",
   "execution_count": 7,
   "id": "0412b74e-3a7e-4e0c-a23f-3a2d45469ab1",
   "metadata": {},
   "outputs": [
    {
     "data": {
      "text/plain": [
       "Top25    3\n",
       "Top24    3\n",
       "Top23    1\n",
       "Top13    0\n",
       "Top22    0\n",
       "Top21    0\n",
       "Top20    0\n",
       "Top19    0\n",
       "Top18    0\n",
       "Top17    0\n",
       "Top16    0\n",
       "Top15    0\n",
       "Top14    0\n",
       "Date     0\n",
       "Label    0\n",
       "Top11    0\n",
       "Top10    0\n",
       "Top9     0\n",
       "Top8     0\n",
       "Top7     0\n",
       "Top6     0\n",
       "Top5     0\n",
       "Top4     0\n",
       "Top3     0\n",
       "Top2     0\n",
       "Top1     0\n",
       "Top12    0\n",
       "dtype: int64"
      ]
     },
     "execution_count": 7,
     "metadata": {},
     "output_type": "execute_result"
    }
   ],
   "source": [
    "# Finding any NaN values\n",
    "df.isna().sum().sort_values(ascending=False)"
   ]
  },
  {
   "cell_type": "code",
   "execution_count": 8,
   "id": "95a94c0e-856a-4ef9-b8cc-857113f26ada",
   "metadata": {},
   "outputs": [
    {
     "name": "stdout",
     "output_type": "stream",
     "text": [
      "(4098, 27)\n"
     ]
    }
   ],
   "source": [
    "# Dropping NaN values\n",
    "df.dropna(inplace=True)\n",
    "print(df.shape)"
   ]
  },
  {
   "cell_type": "code",
   "execution_count": 9,
   "id": "97ae3317-fb51-430b-bebf-8bf1ea699a61",
   "metadata": {},
   "outputs": [],
   "source": [
    "df_copy = df.copy()\n",
    "df_copy.reset_index(inplace=True)"
   ]
  },
  {
   "cell_type": "code",
   "execution_count": 10,
   "id": "b1592c30-d02a-4f9c-a5c5-754dd5d38907",
   "metadata": {
    "tags": []
   },
   "outputs": [
    {
     "name": "stdout",
     "output_type": "stream",
     "text": [
      "Train size: (3688, 27), Test size: (410, 27)\n"
     ]
    }
   ],
   "source": [
    "# Splitting the dataset into train an test set\n",
    "y = df_copy.Label\n",
    "X = df_copy.drop(columns = \"Label\")\n",
    "X_train, X_test, y_train, y_test = train_test_split(X, y, test_size=0.1, shuffle = False, random_state = 42)\n",
    "print(f'Train size: {X_train.shape}, Test size: {X_test.shape}')"
   ]
  },
  {
   "cell_type": "code",
   "execution_count": 11,
   "id": "166e23c8-4bca-42e5-adeb-e3ef95d3cef6",
   "metadata": {},
   "outputs": [],
   "source": [
    "X_train.drop(columns = [\"index\", \"Date\"], inplace = True)\n",
    "X_test.drop(columns = [\"index\", \"Date\"], inplace = True)"
   ]
  },
  {
   "cell_type": "code",
   "execution_count": 12,
   "id": "39c90f88-4bb9-4710-9684-64ab9272c756",
   "metadata": {},
   "outputs": [],
   "source": [
    "# Removing punctuation and special character from the text\n",
    "X_train.replace(to_replace='[^a-zA-Z]+', value=' ', regex=True, inplace=True)\n",
    "X_test.replace(to_replace='[^a-zA-Z]+', value=' ', regex=True, inplace=True)"
   ]
  },
  {
   "cell_type": "code",
   "execution_count": 13,
   "id": "996368a7-06e2-4aa1-b3e4-eb012518913b",
   "metadata": {},
   "outputs": [],
   "source": [
    "#renaming columns\n",
    "new_columns = [str(i) for i in range(0,25)]\n",
    "X_train.columns = new_columns\n",
    "X_test.columns = new_columns"
   ]
  },
  {
   "cell_type": "code",
   "execution_count": 14,
   "id": "63281e05-a8f4-43e3-a7df-d58e30f9c797",
   "metadata": {},
   "outputs": [],
   "source": [
    "#lowering the case\n",
    "for i in new_columns:\n",
    "    X_train[i] = X_train[i].str.lower()\n",
    "    X_test[i] = X_test[i].str.lower()"
   ]
  },
  {
   "cell_type": "code",
   "execution_count": 15,
   "id": "56c38803-8c81-4758-9a59-0c1b09d8fec2",
   "metadata": {},
   "outputs": [],
   "source": [
    "# Joining all the columns\n",
    "train_headlines = []\n",
    "test_headlines = []\n",
    "\n",
    "for row in range(0, X_train.shape[0]):\n",
    "    train_headlines.append(' '.join(str(x) for x in X_train.iloc[row, 0:25]))\n",
    "\n",
    "for row in range(0, X_test.shape[0]):\n",
    "    test_headlines.append(' '.join(str(x) for x in X_test.iloc[row, 0:25]))"
   ]
  },
  {
   "cell_type": "code",
   "execution_count": 16,
   "id": "84e6655e-2c10-4938-bfda-5d324420cab4",
   "metadata": {},
   "outputs": [
    {
     "data": {
      "text/plain": [
       "'a hindrance to operations extracts from the leaked reports scorecard hughes instant hit buoys blues jack gets his skates on at ice cold alex chaos as maracana builds up for united depleted leicester prevail as elliott spoils everton s party hungry spurs sense rich pickings gunners so wide of an easy target derby raise a glass to strupar s debut double southgate strikes leeds pay the penalty hammers hand robson a youthful lesson saints party like it s  wear wolves have turned into lambs stump mike catches testy gough s taunt langer escapes to hit  flintoff injury piles on woe for england hunters threaten jospin with new battle of the somme kohl s successor drawn into scandal the difference between men and women sara denver nurse turned solicitor diana s landmine crusade put tories in a panic yeltsin s resignation caught opposition flat footed russian roulette sold out recovering a title'"
      ]
     },
     "execution_count": 16,
     "metadata": {},
     "output_type": "execute_result"
    }
   ],
   "source": [
    "train_headlines[0]"
   ]
  },
  {
   "cell_type": "code",
   "execution_count": 17,
   "id": "b1bd86f1-42ba-4416-935a-81c9ef5004c8",
   "metadata": {},
   "outputs": [
    {
     "data": {
      "text/plain": [
       "'sweden has proof foreign sub entered its waters report local hunters kill over boko haram insurgents recapture adamawa town isis releases a new speech of its leader abu bakr al baghdadi in which he urges his supporters to attack saudi arabia  russia says fleet of warships is off australia for climate research unique year old circular pyramid discovered in bolivia the israeli government has announced that it is denying entry to members of the un human rights council commission charged with investigating war crimes committed during the summer israeli invasion of the gaza strip  supreme court of canada ruling makes honesty the law for businesses the first jihadist to be tried in france after returning from syria has been given a seven year jail sentence flavien moreau travelled to syria and joined an islamist militant group but says he only stayed for a dozen days because he missed smoking banned by the jihadist group he joined  paedophiles have created a deep web version of kickstarter to crowdfund child porn  killer robots should be strictly monitored nations demand at un countries warn of potential dangers of autonomous weapons systems they say are at risk of violating international and humanitarian law tony abbot says australia was nothing but bush before white colonisation in a speech given at an international business breakfast  russia may claim damages if france doesn t deliver mistral warship news agency france calls on israel to immediately reverse the building of new settlements in east jerusalem more than protesters stuck their heads in the sand on sydney s bondi beach on thursday the stunt was meant to mock the australian government s reluctance to put climate change on the agenda of this weekend s g summit being held in the country  saudi beheads th pakistani on drugs charges in one month two dutch f fighter jets taking part in a nato mission to protect the skies above the baltics intercepted a russian military transport plane on thursday  islamic state reportedly minting coins as it struggles to function like an actual state putin says russia prepared for oil price collapse regards sanctions over ukraine as pointless and illegal us military considers sending combat troops back to iraq  turkish protestors who attacked us sailors have been released without questing or charges  norwegian doctor mads gilbert has been hit with a lifetime ban from entering gaza by the israeli government  canada under pressure after u s china agree to curb greenhouse gases france says mistral ship won t be delivered to russia there will be no handover genetically modified gmo food has to be labeled in taiwan starting next year continues ban from school lunches barack obama to pledge at least bn to help poor countries fight climate change'"
      ]
     },
     "execution_count": 17,
     "metadata": {},
     "output_type": "execute_result"
    }
   ],
   "source": [
    "test_headlines[0]"
   ]
  },
  {
   "cell_type": "code",
   "execution_count": 18,
   "id": "a5d2f92a-52fa-4a7a-8eb5-7e0b573062fc",
   "metadata": {},
   "outputs": [],
   "source": [
    "# Creating corpus of train dataset\n",
    "ps = PorterStemmer()\n",
    "train_corpus = []\n",
    "\n",
    "for i in range(0, len(train_headlines)):\n",
    "  # Tokenizing the news-title by words\n",
    "  words = train_headlines[i].split()\n",
    "\n",
    "  # Removing the stopwords\n",
    "  words = [word for word in words if word not in set(stopwords.words('english'))]\n",
    "\n",
    "  # Stemming the words\n",
    "  words = [ps.stem(word) for word in words]\n",
    "\n",
    "  # Joining the stemmed words\n",
    "  headline = ' '.join(words)\n",
    "\n",
    "  # Building a corpus of news-title\n",
    "  train_corpus.append(headline)"
   ]
  },
  {
   "cell_type": "code",
   "execution_count": 19,
   "id": "2f33d23c-3fee-4c48-be2c-7969879213e9",
   "metadata": {},
   "outputs": [],
   "source": [
    "# Creating corpus of test dataset\n",
    "test_corpus = []\n",
    "\n",
    "for i in range(0, len(test_headlines)):\n",
    "\n",
    "  # Tokenizing the news-title by words\n",
    "  words = test_headlines[i].split()\n",
    "\n",
    "  # Removing the stopwords\n",
    "  words = [word for word in words if word not in set(stopwords.words('english'))]\n",
    "\n",
    "  # Stemming the words\n",
    "  words = [ps.stem(word) for word in words]\n",
    "\n",
    "  # Joining the stemmed words\n",
    "  headline = ' '.join(words)\n",
    "\n",
    "  # Building a corpus of news-title\n",
    "  test_corpus.append(headline)"
   ]
  },
  {
   "cell_type": "code",
   "execution_count": 23,
   "id": "5ed82d8e-6f5f-4a6b-b736-f42bc74f9398",
   "metadata": {},
   "outputs": [
    {
     "data": {
      "text/plain": [
       "['hindranc oper extract leak report scorecard hugh instant hit buoy blue jack get skate ice cold alex chao maracana build unit deplet leicest prevail elliott spoil everton parti hungri spur sens rich pick gunner wide easi target derbi rais glass strupar debut doubl southgat strike leed pay penalti hammer hand robson youth lesson saint parti like wear wolv turn lamb stump mike catch testi gough taunt langer escap hit flintoff injuri pile woe england hunter threaten jospin new battl somm kohl successor drawn scandal differ men women sara denver nurs turn solicitor diana landmin crusad put tori panic yeltsin resign caught opposit flat foot russian roulett sold recov titl',\n",
       " 'scorecard best lake scene leader german sleaz inquiri cheerio boyo main recommend cubi kill fee cubi kill fee cubi kill fee hopkin furiou foster lack hannib appetit cubi kill fee tale two tail say like like say elbow eye nippl task forc assess risk asteroid collis found last critic list time live dear doctor irish court halt ira man extradit northern ireland burundi peac initi fade rebel reject mandela mediat pe point way forward ecb campaign keep pressur nazi war crime suspect jane ratcliff yet thing know without movi millennium bug fail bite',\n",
       " 'coventri caught counter flo unit rival road rio thatcher issu defenc trial video polic help smith lay law everton tale trautmann bear two retel england rack pakistan retali call video walsh cullinan continu cape monopoli mcgrath put india miseri blair witch bandwagon roll pele turn heat ferguson parti divid kohl slush fund scandal manchest unit england women record south pole walk vasco da gama brazil south melbourn australia necaxa mexico real madrid spain raja casablanca morocco corinthian brazil toni pet project al nassr saudi arabia ideal holm show pinochet leav hospit test use link',\n",
       " 'pilgrim know progress thatcher face ban mcilroy call irish fight spirit leicest bin stadium blueprint unit brace mexican wave aunti back fashion even dress look bit tatti shoaib appeal goe top hussain hurt shambl lay blame earlier damag england decad disast reveng sweet jubil cronj choic profil former us nazi parti offic william pierc new evid show record war crime suspect investig rise supernerd written bodi putin admit yeltsin quit give head start bbc worst hit digit tv begin bite much pay christma glitch upend tabl chop line score goal scientif evid unreli defenc claim fusco win judici review extradit case rebel thwart russian advanc blair order shake fail nh lesson law hard heart',\n",
       " 'hitch horlock beckham unit surviv breast cancer screen alan parker guardian reader whinger hollywood beyond ash diamond whinger formid minor alan parker part two thuggeri toxin tie met face fresh attack race crime everton fan top racist leagu shame breast russia new boss extrem strang histori alway forev everywher udi want chloe lunett return cane complet agenda sleepi hollow greeneland blunkett outlin vision embattl dobson attack play pay later livingston doom dome north south divid aitken releas jail gone aloft',\n",
       " 'fifth round draw bbc unveil secret weapon rate war south melbourn second divis round european round third divis round welfar could claim killi tie caley thistl land celtic ferguson put brave face rio meltdown southgat strike form pre empt penalti second bite wolv scallywag chelsea look bench england miss trick centurion radio time england bat collaps faith futur youth helm goe unit stave inevit time warner aol merg keep wage global war desktop icon qwerti keyboard sec file low workplac bulli met equip solv murder tranmer tie replay rebel attack take toll russia met lent stop car lawrenc',\n",
       " 'man utd south melbourn north atlant drift could carri away old firm buoyant bbc show brazil final live tranmer given clear cup unit sit poorli doc queen park peril cloud hampden futur waugh hit shoaib repriev knight make case butcher place scoreboard bond enough star brosnan help peopl blake blast liverpool german parti leader took cash arm dealer children book week low go like write split vote may offer natwest takeov escap teach stayer sprinter lesson respect everyon know good school wrong give teacher applaus realis felt sick shock tender stung russian forc inspector warn pressur might lead offic take easi solv case repair jack hous',\n",
       " 'newcastl seek new footbal supremo liverpool aim speed heskey deal highland vote edward power play suffer new blow chelsea gambl weah taylor settl etern tie tenth top flight club fall hodg final word charlton charg top german parti chief resist call resign beach made man leo pariah irv sue holocaust author jack straw full common speech batti busi book frock conscious matter heroin wear arm pakistan like mind co black megabuck luck cabinet battl rage ethic foreign polici radio station becom talk sport better breed dad childish thing kid say hopscotch smoke without fire press reaction spain chile argentina',\n",
       " 'bungl offici carpet red raw corner killer mackenzi unit put shirt england plan home nation reviv donald pois quit test scene adam stare abyss money money money tyson enter britain ga chamber claim imposs say irv union take mayor vote row court win ticket end affair irv deni deliber portray hitler merci gallant fulham flunk shoot hill start leav tranmer one step wembley weah strike right cue dinner plate microwav oven toast one simultan free yet live fear doubt pakistan arm export anoth fine mess cybershop sportswear much pay hillari hold late show bye bye american pi tension mount straw stand trial plan harrod lose princ philip royal warrant',\n",
       " 'pompey plump puli work ethic roma fire rolex refere prenton park two told take break ok figur rio still chelsea tune weah world top storey await cottag west indi unveil fieri next gener donald kill field await edgi england cronj low run end captainci high counti lose murali shoaib final tell tale two citi tv rival jostl soccer club stake blatter unit gave boost world cup bid sunderland recoveri bad news booki england main fault tri hard schreiber man would toppl king joe ashton letter resign ashton resign wednesday board stravinski rake progress best waterfront scene incompet insult injuri find time england take six rain shorten first day media sale net chri evan divvi scissor dawn']"
      ]
     },
     "execution_count": 23,
     "metadata": {},
     "output_type": "execute_result"
    }
   ],
   "source": [
    "train_corpus[0:10]"
   ]
  },
  {
   "cell_type": "code",
   "execution_count": 24,
   "id": "c9e8c546-a84f-4131-b1d7-ba1842f5094d",
   "metadata": {},
   "outputs": [
    {
     "data": {
      "text/plain": [
       "['sweden proof foreign sub enter water report local hunter kill boko haram insurg recaptur adamawa town isi releas new speech leader abu bakr al baghdadi urg support attack saudi arabia russia say fleet warship australia climat research uniqu year old circular pyramid discov bolivia isra govern announc deni entri member un human right council commiss charg investig war crime commit summer isra invas gaza strip suprem court canada rule make honesti law busi first jihadist tri franc return syria given seven year jail sentenc flavien moreau travel syria join islamist milit group say stay dozen day miss smoke ban jihadist group join paedophil creat deep web version kickstart crowdfund child porn killer robot strictli monitor nation demand un countri warn potenti danger autonom weapon system say risk violat intern humanitarian law toni abbot say australia noth bush white colonis speech given intern busi breakfast russia may claim damag franc deliv mistral warship news agenc franc call israel immedi revers build new settlement east jerusalem protest stuck head sand sydney bondi beach thursday stunt meant mock australian govern reluct put climat chang agenda weekend g summit held countri saudi behead th pakistani drug charg one month two dutch f fighter jet take part nato mission protect sky baltic intercept russian militari transport plane thursday islam state reportedli mint coin struggl function like actual state putin say russia prepar oil price collaps regard sanction ukrain pointless illeg us militari consid send combat troop back iraq turkish protestor attack us sailor releas without quest charg norwegian doctor mad gilbert hit lifetim ban enter gaza isra govern canada pressur u china agre curb greenhous gase franc say mistral ship deliv russia handov genet modifi gmo food label taiwan start next year continu ban school lunch barack obama pledg least bn help poor countri fight climat chang',\n",
       " 'maasai told leav histor homeland end year becom hunt reserv dubai royal famili world news german villag play prank neo nazi obama put australia climat deni prime minist toni abbott spot recess declar japan modern slaveri affect million peopl report find israel issu gay friendli id card children sex coupl year israel resum destruct palestinian home ukrain crisi petro poroshenko say countri readi total war russia swiss armi remov last explos border bridg germani french govern sign ttip agreement preserv right state set appli standard maintain imparti justic system allow peopl franc world assert valu putin deni fled g summit pressur polic investig possibl homicid link describ paedophil ring involv power peopl uk obama near call russian action invas david cameron warn second global crash loom sarkozi vow revok marriag equal right elect cuba reject erdogan offer build countri first mosqu russia poland expel diplomat tit tat measur pakistan test fire nd nuclear capabl missil week canada break australia contribut green climat fund romanian pm victor ponta conced victori presidenti elect sibiu mayor klau iohanni ten thousand peopl went strike paralyz dozen citi across itali thursday protest sky high unemploy govern plan make easier fire worker violent clash polic protest erupt milan rome germani govern reiter ban frack bird flu case holland turn highli contagi h n strain secret eu document outlin sanction impos israel thwart two state solut ex pat romanian prevent vote romanian govern',\n",
       " 'comet land rosetta probe phila discov organ molecul report sushi eater push pacif bluefin tuna brink extinct putin claim west provok russia new cold war saw mp kill boy paedophil parti say alleg victim group doctor nurs urg ontario govern ban agricultur pesticid blame death bee insect pollin cannabi extract dramat effect brain cancer say new research five kill appar jerusalem terror attack terrorist zacaria moussaoui claim saudi embassi offici involv plot shoot air forc one assassin bill clinton hillari clinton trip unit kingdom japan prime minist shinzo abe said dissolv parliament call earli elect isra research detect breast cancer simpl blood test spanish navi ram greenpeac boat injur activist india say coal plant inadequ environment impact assess judg found casual approach project environment impact patent unaccept cite faulti methodolog well unreli amp inadequ data collect frankfurt becom first financi center europ settl payment chines yuan without convert us dollar first toyota launch hydrogen power car run compress hydrogen ga without emit exhaust qatar current embroil controversi award world cup chosen host world athlet championship palestinian gaza celebr terror attack jerusalem synagogu obama state would order us troop combat isi got nuclear weapon egypt expand buffer zone gaza find longer tunnel islam state isi suppli weapon plane land area control milit head iraq secur defenc committe said qatar countri fourth highest rate slaveri ngo nearli peopl took street nairobi monday protest seri viciou public attack women strip nake assault wear mini skirt cloth perceiv immodest million peopl russia live slave studi find swedish isp protect custom surveil free vpn free syrian armi fsa recogn arm opposit group bashar al assad syria ceas resist aleppo syria second biggest citi withdraw militia citi pope kid right mum dad',\n",
       " 'new subatom particl discov cern south korea rais billion unif man test posit ebola delhi india religi extrem main caus terror accord report north korea refut war crime charg say human right system advantag pyongyang goe diplomat overdr un gener assembl vote refer communist state icc prosecut five thai student held hunger game salut prime minist india home million modern slave turkey redhack delet k electr bill franc block russian sailor board warship unit arab emir offici design group terrorist organ includ two base u council american islam relat cair muslim american societi father claim polic cover son murder westminst paedophil ring china take histor step embrac western style capit open stock market west caution order femal inmat notori indian prison say guard forc prostitut ukrain prepar militari assault east russian foreign minist say two bodi author believ belong miss hondura sister found buri spain congress vote favor recogn palestinian state egypt demolish town expand gaza buffer zone isra pm netanyahu order militari erect secur checkpoint cross east jerusalem first time decad usag agent orang militari defoli okinawa one best kept secret cold war said tokyo base journalist n korea defector urg switzerland freez leader fund muslim major indonesia capit get christian leader erdogan slam ridicul muslim discov america claim india quarantin man cure ebola liberia continu show trace viru sampl semen arriv countri huge blast lit whole sky russia ural four men includ victim father brother sentenc death pakistan murder pregnant woman bludgeon death centr countri second largest citi marri famili wish',\n",
       " 'pakistani famili sentenc death honour kill outsid court four rel pregnant woman bludgeon death outsid one pakistan top court sentenc death wednesday crime defenc lawyer said isi control territori libya russian might use reindeer battl crime anim handl tundra better snowmobil theyr consid start reindeer polic forc bank cultur breed dishonesti scientif studi find record rhino kill south africa eclips poach record illeg wildlif trade continu boom threaten futur speci world longest railway link madrid china freight train servic begin day mile long rout googl internet balloon crash farm south africa first time israel refus return bodi terrorist deterr futur attack north korea threaten conduct nuclear test respons unit nation move toward probe countri human right violat ancient egyptian handbook spell deciph china place limit coal use oppon climat chang regul u long use china emiss excus inact u side said last week joint announc begin end line argument acid rain turn canada lake jelli war go water flea speci amp one go hard lot thing cant eat jelli clad flea time bigger theyr encas jelli obes rival smoke war trillion hit global economi pm room discrimin isra arab netanyahu livni lapid erdan lash ashkelon mayor ban arab construct worker vicin kindergarten southern isra citi unbear stench bat suddenli drop dead russian singer celebr increasingli ban big stage disagre kremlin polici ukrain polic seiz massiv weapon shipment head jerusalem isra presid war islam rivlin advis leadership rais issu control templ mount say isra palestinian destin live togeth jerusalem civilian kill mortar fire home near gaza egypt border birmingham citi council hid link asian cabbi child sex victim year bbc fifa whistleblow phaedra al majid fear safeti top german politician slam ask west recogn crimea swedish court appeal reject assang appeal isi make million per week enough weaponri keep fight least year julian assang appeal lift arrest warrant reject swedish court',\n",
       " 'mexico brink thousand expect mass protest student massacr corrupt violenc threaten destabilis countri mass murder student scandal presidenti home group journalist launch legal action scotland yard discov metropolitan polic record profession activ secret databas design monitor call domest extremist u meteorologist say world octob continu set heat record say despit bitter u cold snap globe rush toward warmest year record great barrier reef slaughter scientist dismiss juli bishop claim reef risk eu govern unanim approv new law slash use plastic groceri bag friday hope curb litter land spread plastic soup world ocean lithuanian presid call russia terrorist state russia igor strelkov respons war eastern ukrain news new snowden doc uk spi agenc full time employe insid vodafon cabl amp wireless gambia secur forc insert object gay prison anus vagina test sexual orient canadian polic arrest protest block propos path tar sand pipelin protest tri stop pipelin would carri tar sand crude edmonton alberta burnabi british columbia molotov cocktail clash mexico citi brace massacr protest mask demonstr threw molotov cocktail shot firework polic near mexico citi airport thousand prepar protest presid enriqu pena nieto handl appar massacr traine teacher new york born london mayor bori johnson refus pay us tax bill j stealth jet get bad review zhuhai airshow flight dark exhaust emit jet engin indic engin poor effici burn fuel laser plane discov roman goldmin spain hidden veget amp crop gold mine network creat roman yr ago well complex hydraul work like river divers divert water mine us presid barack obama chief guest india republ day parad senior isi figur kill mosul mexican presid burn effigi day protest end ukrain presid heckl tribut kiev protest biden visit uk first poo bu power entir human food wast take street today girkin say special op team start conflict donba venic look ban wheeli suitcas nearli per cent world popul overweight report russian govern say wikipedia reliabl plan electron encyclopedia counterweight scotland yard investig three possibl murder link westminst paedophil ring allegedli oper vladimir putin must stop ukrain style colour revolut russia',\n",
       " 'tourist fine tag colosseum scrap nuclear energi germani ponder pull plug coal human right watch call indonesia scrap virgin test femal polic alpin citi grenobl first european citi ban commerci street advertis instead french citi plant tree januari april advertis space squar metr disappear tree plant north korea warn wipe japan world map u n resolut turkish presid erdogan say women men cannot equal meet associ promot women right canada move toward american style inequ u economist suggest man allegedli tortur uk us nearli decad win right sue britain vice news putin stronger everybodi took truck haul away cash corrupt chines gener hid home isra policeman charg manslaught palestinian teen polar bear number part alaska canada drop percent last decad research u geolog survey say cub observ alaska two known surviv gender pay gap fallen record low netanyahu warn grave mistak franc recogn palestin u k govern set announc measur forc internet servic provid maintain record custom use ip address make onlin anonym difficult dead sea lion found beach peru wild duck test posit bird flu viru h n northeast germani strain highli pathogen offici say protest call mexican presid resign mass grave mexican search miss student human bone found civilian non government organ insid four mass grave finnish presid say right time finland join nato mahmoud abba claim wild pig releas isra intimid palestinian britain face biggest terror threat histori foil around major plot sinc suicid bomber attack london home secretari theresa may said monday nearli peopl rescu boat distress mediterranean sea last hour new zealand surveil law anti peopl say green parti leader russel norman discoveri vast canyon tibet thousand feet sediment carv river million year ago',\n",
       " 'scientist urg govern turn old tv frequenc free super wifi afghan woman kill taliban rebel aveng son murder canadian would call ottawa shoot terrorist attack blame mental ill survey find russia fund french nation front far right european parti men target peopl kill us drone strike fact ground new analysi data conduct human right group repriev share guardian rais question accuraci intellig guid precis strike chines tourist flock taiwan see democraci action report even visitor guid elect circul onlin ts wish get feel taiwan uniqu elector cultur danger level global warm unavoid say world bank two degre increas could wipe percent coral reef devast coastal ecosystem economi fisheri depend iceland bank manag involv financi crash sentenc prison german leagu chief tell sepp blatter resign qatar world cup e cigarett restrict flavour tobacco ban ontario eat poison fish death japanes dish call fugu puffer fish produc toxin deadli kill prepar improperli yet delicaci popular overfish push speci puffer brink extinct unidentifi jet launch airstrik tripoli lybia airport egyptian presid say regim readi protect israel south pacif island prepar sue french govern billion nuclear test test conduct mid saw govern approv deton nearli nuclear test atol french polynesia soni paralyz worldwid scale seriou hack threat isi abduct indoctrin children activ combat systemat manner report ukrain hold nato referendum franc award highest honour modest wwii heroin live new zealand great barrier reef threaten queensland plan let miner take billion litr groundwat say marin park author australian cricket fight life take bouncer skull nicaragua go ahead massiv canal bisect countri accord expert project like wreak havoc nicaraguan countri environ russia say lose billion oil slump sanction islam state australian initi air strike kill milit fighter cave complex near kirkuk cant keep wait stealth fighter india tell russia anti slaveri campaign arrest mauritania countri world highest slaveri rate',\n",
       " 'pope franci condemn priest laiti turn parish busi charg thing baptism bless mass intent call scandal hard forgiv iraqi warplan kill isi command heet aid vietnam seiz dead endang sea turtl record haul bound illeg export china india rais smoke age isra presid oppos propos law give nation right jew rare shakespear volum discov french librari rare copi shakespear play spent hundr year hide public librari small town northern franc notic volum seen one valuabl book world putin say russia threat anyon pose threat anyon intend get involv geopolit game intrigu let alon conflict matter tri draw us putin told meet militari chief four polio vaccin shot dead pakistan soni set end sponsorship contract fifa becom second major sponsor cut tie telegraph qatar arrest worker protest low pay scientist terrifi tech lead scientist investig geoengin solut climat chang admit terrifi technolog denmark vote male circumcis ban kremlin whistl blower putin option stay power grenobl ban street ad replac billboard tree save children staff furiou global legaci award toni blair intern letter sign almost staff member say award moral reprehens endang stc credibl global goldman basf hsbc accus metal price fix u lawsuit us turkey head showdown syria evid mount ankara enabl group washington activ bomb suicid attack two femal bomber crowd market northern nigeria maiduguri citi kill peopl medic offici say shakespear first folio one believ still exist found french librari tunisian secularist win first presidenti round head run french presid offic formal announc indefinit suspens deliveri russia mistral helicopt assault ship cite ukrain situat archaeologist denmark uncov incred rare find stone age axe held within wooden handl articl tanzania masai breath sigh relief presid vow never evict franc suspend warship deal russia ukrain crisi jian ghomeshi face five charg sexual assault investig',\n",
       " 'state emerg ukrain russia cut coal finnish parliament approv sex marriag first time sinc germani balanc budget bavaria plan free wifi whole state german unemploy rate fall record low mexico presid announc feder takeov local polic forc mexico eleven bodi found dump state student went miss indonesia crack deforest symbol u turn indonesia reform new presid crack rampant deforest peatland destruct made nation world third largest emitt climat warm carbon dioxid renew energi overtak nuclear scotland top power sourc clean energi produc power scotland nuclear coal ga st time st industri figur show mental health patient die wait bed kill mother investig come mental health bed cut england figur show gone sinc nh accus mani fail understand priorit mental health first known fbi inform insid wikileak plead guilti embezzl fraud amount thirti million krona social media site like twitter amp facebook told simplifi term condit current like read hieroglyph shakespear frack risk compar thalidomid asbesto walport report histori present plenti exampl innov trajectori later prove problemat instanc involv asbesto benzen thalidomid dioxin lead petrol tobacco mani pesticid world health organ men recov ebola abstain sex three month minim risk pass viru semen oil continu collaps day opec stand firm product yemen main oil pipelin blown billion alreadi lost infrastructur attack past two year french presid announc bln euro fund financ transit green energi transcanada energi compani behind controversi keyston pipelin drop pr firm propos attack compani oppon leak edelman plan transcanada pressur oppon distract mission amp caus redirect resourc un tortur watchdog urg us crack polic brutal panel st review us record prevent tortur sinc support isi stronger arab social media europ syria venezuela repres storm meet opec refus cut oil product price slump five year low hong kong protest leader alleg polic sexual assault saudi block opec output cut send oil price plung india suspend us entertain channel comedi central six day show show women commod sex two show israel slam turkey way nato state act']"
      ]
     },
     "execution_count": 24,
     "metadata": {},
     "output_type": "execute_result"
    }
   ],
   "source": [
    "test_corpus[0:10]"
   ]
  },
  {
   "cell_type": "code",
   "execution_count": 20,
   "id": "694daceb-b70e-4939-a5d1-cec5851452a5",
   "metadata": {},
   "outputs": [],
   "source": [
    "# down_words = []\n",
    "# for i in list(y_train[y_train==0].index):\n",
    "#     down_words.append(train_corpus[i])\n",
    "\n",
    "# up_words = []\n",
    "# for i in list(y_train[y_train==1].index):\n",
    "#     up_words.append(train_corpus[i])"
   ]
  },
  {
   "cell_type": "code",
   "execution_count": 21,
   "id": "763d9a25-d596-459f-b4f3-0567e4874285",
   "metadata": {},
   "outputs": [],
   "source": [
    "# # Creating wordcloud for down_words\n",
    "# from wordcloud import WordCloud\n",
    "# wordcloud1 = WordCloud(background_color='white', width=3000, height=2500).generate(down_words[1])\n",
    "# plt.figure(figsize=(8,8))\n",
    "# plt.imshow(wordcloud1)\n",
    "# plt.axis('off')\n",
    "# plt.title(\"Words which indicate a fall in DJIA \")\n",
    "# plt.show()"
   ]
  },
  {
   "cell_type": "code",
   "execution_count": 22,
   "id": "a1fe64a1-47f3-4451-ae91-a7e2182c578a",
   "metadata": {},
   "outputs": [],
   "source": [
    "# # Creating wordcloud for up_words\n",
    "# wordcloud2 = WordCloud(background_color='white', width=3000, height=2500).generate(up_words[5])\n",
    "# plt.figure(figsize=(8,8))\n",
    "# plt.imshow(wordcloud2)\n",
    "# plt.axis('off')\n",
    "# plt.title(\"Words which indicate a rise in DJIA \")\n",
    "# plt.show()"
   ]
  },
  {
   "cell_type": "code",
   "execution_count": 25,
   "id": "c71853e7-591a-4fda-aa31-7c2a8a1066d5",
   "metadata": {},
   "outputs": [],
   "source": [
    "# Creating the Bag of Words model\n",
    "from sklearn.feature_extraction.text import CountVectorizer\n",
    "cv = CountVectorizer(max_features=10000, ngram_range=(2,2))\n",
    "X_train1 = cv.fit_transform(train_corpus).toarray()"
   ]
  },
  {
   "cell_type": "code",
   "execution_count": 26,
   "id": "22962315-6c59-44e5-b06f-da43739862ea",
   "metadata": {},
   "outputs": [],
   "source": [
    "X_test1 = cv.transform(test_corpus).toarray()"
   ]
  },
  {
   "cell_type": "code",
   "execution_count": 27,
   "id": "eeb421c5-922e-4082-ae07-eda4304b0c05",
   "metadata": {},
   "outputs": [
    {
     "data": {
      "text/html": [
       "<style>#sk-container-id-1 {color: black;background-color: white;}#sk-container-id-1 pre{padding: 0;}#sk-container-id-1 div.sk-toggleable {background-color: white;}#sk-container-id-1 label.sk-toggleable__label {cursor: pointer;display: block;width: 100%;margin-bottom: 0;padding: 0.3em;box-sizing: border-box;text-align: center;}#sk-container-id-1 label.sk-toggleable__label-arrow:before {content: \"▸\";float: left;margin-right: 0.25em;color: #696969;}#sk-container-id-1 label.sk-toggleable__label-arrow:hover:before {color: black;}#sk-container-id-1 div.sk-estimator:hover label.sk-toggleable__label-arrow:before {color: black;}#sk-container-id-1 div.sk-toggleable__content {max-height: 0;max-width: 0;overflow: hidden;text-align: left;background-color: #f0f8ff;}#sk-container-id-1 div.sk-toggleable__content pre {margin: 0.2em;color: black;border-radius: 0.25em;background-color: #f0f8ff;}#sk-container-id-1 input.sk-toggleable__control:checked~div.sk-toggleable__content {max-height: 200px;max-width: 100%;overflow: auto;}#sk-container-id-1 input.sk-toggleable__control:checked~label.sk-toggleable__label-arrow:before {content: \"▾\";}#sk-container-id-1 div.sk-estimator input.sk-toggleable__control:checked~label.sk-toggleable__label {background-color: #d4ebff;}#sk-container-id-1 div.sk-label input.sk-toggleable__control:checked~label.sk-toggleable__label {background-color: #d4ebff;}#sk-container-id-1 input.sk-hidden--visually {border: 0;clip: rect(1px 1px 1px 1px);clip: rect(1px, 1px, 1px, 1px);height: 1px;margin: -1px;overflow: hidden;padding: 0;position: absolute;width: 1px;}#sk-container-id-1 div.sk-estimator {font-family: monospace;background-color: #f0f8ff;border: 1px dotted black;border-radius: 0.25em;box-sizing: border-box;margin-bottom: 0.5em;}#sk-container-id-1 div.sk-estimator:hover {background-color: #d4ebff;}#sk-container-id-1 div.sk-parallel-item::after {content: \"\";width: 100%;border-bottom: 1px solid gray;flex-grow: 1;}#sk-container-id-1 div.sk-label:hover label.sk-toggleable__label {background-color: #d4ebff;}#sk-container-id-1 div.sk-serial::before {content: \"\";position: absolute;border-left: 1px solid gray;box-sizing: border-box;top: 0;bottom: 0;left: 50%;z-index: 0;}#sk-container-id-1 div.sk-serial {display: flex;flex-direction: column;align-items: center;background-color: white;padding-right: 0.2em;padding-left: 0.2em;position: relative;}#sk-container-id-1 div.sk-item {position: relative;z-index: 1;}#sk-container-id-1 div.sk-parallel {display: flex;align-items: stretch;justify-content: center;background-color: white;position: relative;}#sk-container-id-1 div.sk-item::before, #sk-container-id-1 div.sk-parallel-item::before {content: \"\";position: absolute;border-left: 1px solid gray;box-sizing: border-box;top: 0;bottom: 0;left: 50%;z-index: -1;}#sk-container-id-1 div.sk-parallel-item {display: flex;flex-direction: column;z-index: 1;position: relative;background-color: white;}#sk-container-id-1 div.sk-parallel-item:first-child::after {align-self: flex-end;width: 50%;}#sk-container-id-1 div.sk-parallel-item:last-child::after {align-self: flex-start;width: 50%;}#sk-container-id-1 div.sk-parallel-item:only-child::after {width: 0;}#sk-container-id-1 div.sk-dashed-wrapped {border: 1px dashed gray;margin: 0 0.4em 0.5em 0.4em;box-sizing: border-box;padding-bottom: 0.4em;background-color: white;}#sk-container-id-1 div.sk-label label {font-family: monospace;font-weight: bold;display: inline-block;line-height: 1.2em;}#sk-container-id-1 div.sk-label-container {text-align: center;}#sk-container-id-1 div.sk-container {/* jupyter's `normalize.less` sets `[hidden] { display: none; }` but bootstrap.min.css set `[hidden] { display: none !important; }` so we also need the `!important` here to be able to override the default hidden behavior on the sphinx rendered scikit-learn.org. See: https://github.com/scikit-learn/scikit-learn/issues/21755 */display: inline-block !important;position: relative;}#sk-container-id-1 div.sk-text-repr-fallback {display: none;}</style><div id=\"sk-container-id-1\" class=\"sk-top-container\"><div class=\"sk-text-repr-fallback\"><pre>LogisticRegression()</pre><b>In a Jupyter environment, please rerun this cell to show the HTML representation or trust the notebook. <br />On GitHub, the HTML representation is unable to render, please try loading this page with nbviewer.org.</b></div><div class=\"sk-container\" hidden><div class=\"sk-item\"><div class=\"sk-estimator sk-toggleable\"><input class=\"sk-toggleable__control sk-hidden--visually\" id=\"sk-estimator-id-1\" type=\"checkbox\" checked><label for=\"sk-estimator-id-1\" class=\"sk-toggleable__label sk-toggleable__label-arrow\">LogisticRegression</label><div class=\"sk-toggleable__content\"><pre>LogisticRegression()</pre></div></div></div></div></div>"
      ],
      "text/plain": [
       "LogisticRegression()"
      ]
     },
     "execution_count": 27,
     "metadata": {},
     "output_type": "execute_result"
    }
   ],
   "source": [
    "from sklearn.linear_model import LogisticRegression\n",
    "lr_classifier = LogisticRegression()\n",
    "lr_classifier.fit(X_train1, y_train)"
   ]
  },
  {
   "cell_type": "code",
   "execution_count": 28,
   "id": "3cab564b-52ab-4380-8beb-cddf6323401d",
   "metadata": {},
   "outputs": [],
   "source": [
    "lr_y_pred = lr_classifier.predict(X_test1)"
   ]
  },
  {
   "cell_type": "code",
   "execution_count": 33,
   "id": "dc019ea2-31ad-40d2-ace9-a9057424155e",
   "metadata": {},
   "outputs": [
    {
     "name": "stdout",
     "output_type": "stream",
     "text": [
      "---- Scores ----\n",
      "Accuracy score is: 51.22%\n",
      "Precision score is: 52.05\n",
      "Recall score is: 60.48\n"
     ]
    }
   ],
   "source": [
    "# Accuracy, Precision and Recall\n",
    "from sklearn.metrics import accuracy_score, precision_score, recall_score\n",
    "score1 = accuracy_score(y_test, lr_y_pred)\n",
    "score2 = precision_score(y_test, lr_y_pred)\n",
    "score3 = recall_score(y_test, lr_y_pred)\n",
    "print(\"---- Scores ----\")\n",
    "print(\"Accuracy score is: {}%\".format(round(score1*100,2)))\n",
    "print(\"Precision score is: {}\".format(round(score2*100,2)))\n",
    "print(\"Recall score is: {}\".format(round(score3*100,2)))"
   ]
  },
  {
   "cell_type": "code",
   "execution_count": 37,
   "id": "edad522f-cbeb-44b8-ba4f-18442df75b00",
   "metadata": {},
   "outputs": [
    {
     "data": {
      "text/plain": [
       "array([[ 83, 117],\n",
       "       [ 83, 127]], dtype=int64)"
      ]
     },
     "execution_count": 37,
     "metadata": {},
     "output_type": "execute_result"
    }
   ],
   "source": [
    "# Making the Confusion Matrix\n",
    "from sklearn.metrics import confusion_matrix\n",
    "lr_cm = confusion_matrix(y_test, lr_y_pred)\n",
    "lr_cm"
   ]
  },
  {
   "cell_type": "code",
   "execution_count": 39,
   "id": "1d11d8a7-870b-4eb4-87f1-124fb0934e74",
   "metadata": {},
   "outputs": [
    {
     "name": "stdout",
     "output_type": "stream",
     "text": [
      "              precision    recall  f1-score   support\n",
      "\n",
      "           0       0.50      0.41      0.45       200\n",
      "           1       0.52      0.60      0.56       210\n",
      "\n",
      "    accuracy                           0.51       410\n",
      "   macro avg       0.51      0.51      0.51       410\n",
      "weighted avg       0.51      0.51      0.51       410\n",
      "\n"
     ]
    }
   ],
   "source": [
    "#printing classifcation report\n",
    "from sklearn.metrics import classification_report\n",
    "print(classification_report(y_test, lr_y_pred))"
   ]
  }
 ],
 "metadata": {
  "kernelspec": {
   "display_name": "Python 3 (ipykernel)",
   "language": "python",
   "name": "python3"
  },
  "language_info": {
   "codemirror_mode": {
    "name": "ipython",
    "version": 3
   },
   "file_extension": ".py",
   "mimetype": "text/x-python",
   "name": "python",
   "nbconvert_exporter": "python",
   "pygments_lexer": "ipython3",
   "version": "3.11.0"
  }
 },
 "nbformat": 4,
 "nbformat_minor": 5
}
